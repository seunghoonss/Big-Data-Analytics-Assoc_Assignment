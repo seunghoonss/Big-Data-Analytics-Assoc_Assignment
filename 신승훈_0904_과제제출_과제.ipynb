{
 "cells": [
  {
   "cell_type": "markdown",
   "id": "23399eca",
   "metadata": {},
   "source": [
    "### 시리즈 메서드 과제1 \n",
    "- append : 2개 이상의 시리즈 연결\n",
    "- describe \n",
    "- drop_duplicates :중복값을 제거 \n",
    "- equals : 해당 값을 가진 요소가 있는지 체크\n",
    "- get_values :시리즈 값을 구하기 ( values와 동일)\n",
    "- isin \n",
    "- min\n",
    "- max\n",
    "- ...기초통계관련\n",
    "- replace 특정 값을 가진 시리즈를 교체 \n",
    "- sort_values\n",
    "- to_frame\n",
    "\n",
    "- 주석처리로 작동에 대해서 설명해주세요!\n",
    "\n",
    "- 구글링으로 찾아도 쉽게 나오는 내용이라 찾아봐 주세요!"
   ]
  },
  {
   "cell_type": "code",
   "execution_count": 2,
   "id": "a70fc496",
   "metadata": {},
   "outputs": [],
   "source": [
    "import pandas as pd # 판다스 라이브러리"
   ]
  },
  {
   "cell_type": "code",
   "execution_count": 15,
   "id": "be5839d1",
   "metadata": {},
   "outputs": [],
   "source": [
    "df = pd.read_csv('mpg.csv') # csv파일 불러온다"
   ]
  },
  {
   "cell_type": "code",
   "execution_count": 16,
   "id": "d44330ac",
   "metadata": {},
   "outputs": [
    {
     "data": {
      "text/html": [
       "<div>\n",
       "<style scoped>\n",
       "    .dataframe tbody tr th:only-of-type {\n",
       "        vertical-align: middle;\n",
       "    }\n",
       "\n",
       "    .dataframe tbody tr th {\n",
       "        vertical-align: top;\n",
       "    }\n",
       "\n",
       "    .dataframe thead th {\n",
       "        text-align: right;\n",
       "    }\n",
       "</style>\n",
       "<table border=\"1\" class=\"dataframe\">\n",
       "  <thead>\n",
       "    <tr style=\"text-align: right;\">\n",
       "      <th></th>\n",
       "      <th>manufacturer</th>\n",
       "      <th>model</th>\n",
       "      <th>displ</th>\n",
       "      <th>year</th>\n",
       "      <th>cyl</th>\n",
       "      <th>trans</th>\n",
       "      <th>drv</th>\n",
       "      <th>cty</th>\n",
       "      <th>hwy</th>\n",
       "      <th>fl</th>\n",
       "      <th>category</th>\n",
       "    </tr>\n",
       "  </thead>\n",
       "  <tbody>\n",
       "    <tr>\n",
       "      <th>0</th>\n",
       "      <td>audi</td>\n",
       "      <td>a4</td>\n",
       "      <td>1.8</td>\n",
       "      <td>1999</td>\n",
       "      <td>4</td>\n",
       "      <td>auto(l5)</td>\n",
       "      <td>f</td>\n",
       "      <td>18</td>\n",
       "      <td>29</td>\n",
       "      <td>p</td>\n",
       "      <td>compact</td>\n",
       "    </tr>\n",
       "    <tr>\n",
       "      <th>1</th>\n",
       "      <td>audi</td>\n",
       "      <td>a4</td>\n",
       "      <td>1.8</td>\n",
       "      <td>1999</td>\n",
       "      <td>4</td>\n",
       "      <td>manual(m5)</td>\n",
       "      <td>f</td>\n",
       "      <td>21</td>\n",
       "      <td>29</td>\n",
       "      <td>p</td>\n",
       "      <td>compact</td>\n",
       "    </tr>\n",
       "    <tr>\n",
       "      <th>2</th>\n",
       "      <td>audi</td>\n",
       "      <td>a4</td>\n",
       "      <td>2.0</td>\n",
       "      <td>2008</td>\n",
       "      <td>4</td>\n",
       "      <td>manual(m6)</td>\n",
       "      <td>f</td>\n",
       "      <td>20</td>\n",
       "      <td>31</td>\n",
       "      <td>p</td>\n",
       "      <td>compact</td>\n",
       "    </tr>\n",
       "    <tr>\n",
       "      <th>3</th>\n",
       "      <td>audi</td>\n",
       "      <td>a4</td>\n",
       "      <td>2.0</td>\n",
       "      <td>2008</td>\n",
       "      <td>4</td>\n",
       "      <td>auto(av)</td>\n",
       "      <td>f</td>\n",
       "      <td>21</td>\n",
       "      <td>30</td>\n",
       "      <td>p</td>\n",
       "      <td>compact</td>\n",
       "    </tr>\n",
       "    <tr>\n",
       "      <th>4</th>\n",
       "      <td>audi</td>\n",
       "      <td>a4</td>\n",
       "      <td>2.8</td>\n",
       "      <td>1999</td>\n",
       "      <td>6</td>\n",
       "      <td>auto(l5)</td>\n",
       "      <td>f</td>\n",
       "      <td>16</td>\n",
       "      <td>26</td>\n",
       "      <td>p</td>\n",
       "      <td>compact</td>\n",
       "    </tr>\n",
       "    <tr>\n",
       "      <th>...</th>\n",
       "      <td>...</td>\n",
       "      <td>...</td>\n",
       "      <td>...</td>\n",
       "      <td>...</td>\n",
       "      <td>...</td>\n",
       "      <td>...</td>\n",
       "      <td>...</td>\n",
       "      <td>...</td>\n",
       "      <td>...</td>\n",
       "      <td>...</td>\n",
       "      <td>...</td>\n",
       "    </tr>\n",
       "    <tr>\n",
       "      <th>229</th>\n",
       "      <td>volkswagen</td>\n",
       "      <td>passat</td>\n",
       "      <td>2.0</td>\n",
       "      <td>2008</td>\n",
       "      <td>4</td>\n",
       "      <td>auto(s6)</td>\n",
       "      <td>f</td>\n",
       "      <td>19</td>\n",
       "      <td>28</td>\n",
       "      <td>p</td>\n",
       "      <td>midsize</td>\n",
       "    </tr>\n",
       "    <tr>\n",
       "      <th>230</th>\n",
       "      <td>volkswagen</td>\n",
       "      <td>passat</td>\n",
       "      <td>2.0</td>\n",
       "      <td>2008</td>\n",
       "      <td>4</td>\n",
       "      <td>manual(m6)</td>\n",
       "      <td>f</td>\n",
       "      <td>21</td>\n",
       "      <td>29</td>\n",
       "      <td>p</td>\n",
       "      <td>midsize</td>\n",
       "    </tr>\n",
       "    <tr>\n",
       "      <th>231</th>\n",
       "      <td>volkswagen</td>\n",
       "      <td>passat</td>\n",
       "      <td>2.8</td>\n",
       "      <td>1999</td>\n",
       "      <td>6</td>\n",
       "      <td>auto(l5)</td>\n",
       "      <td>f</td>\n",
       "      <td>16</td>\n",
       "      <td>26</td>\n",
       "      <td>p</td>\n",
       "      <td>midsize</td>\n",
       "    </tr>\n",
       "    <tr>\n",
       "      <th>232</th>\n",
       "      <td>volkswagen</td>\n",
       "      <td>passat</td>\n",
       "      <td>2.8</td>\n",
       "      <td>1999</td>\n",
       "      <td>6</td>\n",
       "      <td>manual(m5)</td>\n",
       "      <td>f</td>\n",
       "      <td>18</td>\n",
       "      <td>26</td>\n",
       "      <td>p</td>\n",
       "      <td>midsize</td>\n",
       "    </tr>\n",
       "    <tr>\n",
       "      <th>233</th>\n",
       "      <td>volkswagen</td>\n",
       "      <td>passat</td>\n",
       "      <td>3.6</td>\n",
       "      <td>2008</td>\n",
       "      <td>6</td>\n",
       "      <td>auto(s6)</td>\n",
       "      <td>f</td>\n",
       "      <td>17</td>\n",
       "      <td>26</td>\n",
       "      <td>p</td>\n",
       "      <td>midsize</td>\n",
       "    </tr>\n",
       "  </tbody>\n",
       "</table>\n",
       "<p>234 rows × 11 columns</p>\n",
       "</div>"
      ],
      "text/plain": [
       "    manufacturer   model  displ  year  cyl       trans drv  cty  hwy fl  \\\n",
       "0           audi      a4    1.8  1999    4    auto(l5)   f   18   29  p   \n",
       "1           audi      a4    1.8  1999    4  manual(m5)   f   21   29  p   \n",
       "2           audi      a4    2.0  2008    4  manual(m6)   f   20   31  p   \n",
       "3           audi      a4    2.0  2008    4    auto(av)   f   21   30  p   \n",
       "4           audi      a4    2.8  1999    6    auto(l5)   f   16   26  p   \n",
       "..           ...     ...    ...   ...  ...         ...  ..  ...  ... ..   \n",
       "229   volkswagen  passat    2.0  2008    4    auto(s6)   f   19   28  p   \n",
       "230   volkswagen  passat    2.0  2008    4  manual(m6)   f   21   29  p   \n",
       "231   volkswagen  passat    2.8  1999    6    auto(l5)   f   16   26  p   \n",
       "232   volkswagen  passat    2.8  1999    6  manual(m5)   f   18   26  p   \n",
       "233   volkswagen  passat    3.6  2008    6    auto(s6)   f   17   26  p   \n",
       "\n",
       "    category  \n",
       "0    compact  \n",
       "1    compact  \n",
       "2    compact  \n",
       "3    compact  \n",
       "4    compact  \n",
       "..       ...  \n",
       "229  midsize  \n",
       "230  midsize  \n",
       "231  midsize  \n",
       "232  midsize  \n",
       "233  midsize  \n",
       "\n",
       "[234 rows x 11 columns]"
      ]
     },
     "execution_count": 16,
     "metadata": {},
     "output_type": "execute_result"
    }
   ],
   "source": [
    "df"
   ]
  },
  {
   "cell_type": "markdown",
   "id": "6484e7b6",
   "metadata": {},
   "source": [
    "### append "
   ]
  },
  {
   "cell_type": "code",
   "execution_count": 17,
   "id": "fcac9dc2",
   "metadata": {},
   "outputs": [
    {
     "name": "stderr",
     "output_type": "stream",
     "text": [
      "C:\\Users\\sshss\\AppData\\Local\\Temp\\ipykernel_14264\\1190550909.py:4: FutureWarning: The series.append method is deprecated and will be removed from pandas in a future version. Use pandas.concat instead.\n",
      "  series1.append(series2) # 시리즈.append(시리즈)\n"
     ]
    },
    {
     "data": {
      "text/plain": [
       "0      audi\n",
       "1      audi\n",
       "2      audi\n",
       "3      audi\n",
       "4      audi\n",
       "       ... \n",
       "229       f\n",
       "230       f\n",
       "231       f\n",
       "232       f\n",
       "233       f\n",
       "Length: 468, dtype: object"
      ]
     },
     "execution_count": 17,
     "metadata": {},
     "output_type": "execute_result"
    }
   ],
   "source": [
    "series1 = df['manufacturer'] # 시리즈 형성\n",
    "series2 = df['drv']\n",
    "\n",
    "series1.append(series2) # 시리즈.append(시리즈)"
   ]
  },
  {
   "cell_type": "markdown",
   "id": "46554093",
   "metadata": {},
   "source": [
    "### describe "
   ]
  },
  {
   "cell_type": "code",
   "execution_count": 18,
   "id": "f7394ca9",
   "metadata": {},
   "outputs": [
    {
     "data": {
      "text/plain": [
       "count       234\n",
       "unique       15\n",
       "top       dodge\n",
       "freq         37\n",
       "Name: manufacturer, dtype: object"
      ]
     },
     "execution_count": 18,
     "metadata": {},
     "output_type": "execute_result"
    }
   ],
   "source": [
    "series1.describe() # 요약 통계 # 시리즈.describe()\n",
    "\n",
    "#count : 총 데이터 수\n",
    "#unique : 중복 없이 나오는 고유한 데이터 값\n",
    "#top : 가장 값이 많은 데이터 (최빈값인 항목)\n",
    "#freq : 최빈 데이터의 실제 수"
   ]
  },
  {
   "cell_type": "markdown",
   "id": "b545a867",
   "metadata": {},
   "source": [
    "### drop_duplicates "
   ]
  },
  {
   "cell_type": "code",
   "execution_count": 19,
   "id": "5f16f6a4",
   "metadata": {},
   "outputs": [
    {
     "data": {
      "text/plain": [
       "<bound method Series.drop_duplicates of 0            audi\n",
       "1            audi\n",
       "2            audi\n",
       "3            audi\n",
       "4            audi\n",
       "          ...    \n",
       "229    volkswagen\n",
       "230    volkswagen\n",
       "231    volkswagen\n",
       "232    volkswagen\n",
       "233    volkswagen\n",
       "Name: manufacturer, Length: 234, dtype: object>"
      ]
     },
     "execution_count": 19,
     "metadata": {},
     "output_type": "execute_result"
    }
   ],
   "source": [
    "series1.drop_duplicates # 중복된 값 제거 # 시리즈.drop-duplicates"
   ]
  },
  {
   "cell_type": "markdown",
   "id": "b16f3307",
   "metadata": {},
   "source": [
    "### equals "
   ]
  },
  {
   "cell_type": "code",
   "execution_count": 13,
   "id": "0c2d9c91",
   "metadata": {},
   "outputs": [
    {
     "data": {
      "text/plain": [
       "False"
      ]
     },
     "execution_count": 13,
     "metadata": {},
     "output_type": "execute_result"
    }
   ],
   "source": [
    "series3 = df['hwy'] # 해당 값을 가지고 있는지 체크\n",
    "series4 = df['cty'] \n",
    "series3.equals(series4) # 시리즈.equals(시리즈)"
   ]
  },
  {
   "cell_type": "code",
   "execution_count": 14,
   "id": "c5ae9249",
   "metadata": {},
   "outputs": [
    {
     "data": {
      "text/plain": [
       "True"
      ]
     },
     "execution_count": 14,
     "metadata": {},
     "output_type": "execute_result"
    }
   ],
   "source": [
    "series3 = df['hwy'] \n",
    "series4 = df['hwy']\n",
    "series3.equals(series4) # 해당 값을 가지고 있다 (=Ture)"
   ]
  },
  {
   "cell_type": "markdown",
   "id": "416fcc60",
   "metadata": {},
   "source": [
    "### isin "
   ]
  },
  {
   "cell_type": "code",
   "execution_count": 16,
   "id": "480e5d90",
   "metadata": {},
   "outputs": [
    {
     "data": {
      "text/plain": [
       "0      True\n",
       "1      True\n",
       "2      True\n",
       "3      True\n",
       "4      True\n",
       "       ... \n",
       "229    True\n",
       "230    True\n",
       "231    True\n",
       "232    True\n",
       "233    True\n",
       "Name: manufacturer, Length: 234, dtype: bool"
      ]
     },
     "execution_count": 16,
     "metadata": {},
     "output_type": "execute_result"
    }
   ],
   "source": [
    "series1.isin(['audi', 'volkswagen']) # 시리즈isin([포함여부가 궁금한 값들의 리스트 형태])\n",
    "                                    # audi, volkswagen 값을 가진 곳 까지 True를 반환하고 나머지는 False를 반환한다"
   ]
  },
  {
   "cell_type": "code",
   "execution_count": 19,
   "id": "e2090390",
   "metadata": {},
   "outputs": [
    {
     "data": {
      "text/plain": [
       "0      True\n",
       "1      True\n",
       "2      True\n",
       "3      True\n",
       "4      True\n",
       "       ... \n",
       "229    True\n",
       "230    True\n",
       "231    True\n",
       "232    True\n",
       "233    True\n",
       "Name: drv, Length: 234, dtype: bool"
      ]
     },
     "execution_count": 19,
     "metadata": {},
     "output_type": "execute_result"
    }
   ],
   "source": [
    "series2.isin(['f']) "
   ]
  },
  {
   "cell_type": "markdown",
   "id": "28d24d3f",
   "metadata": {},
   "source": [
    "### min "
   ]
  },
  {
   "cell_type": "code",
   "execution_count": 27,
   "id": "90bfe480",
   "metadata": {},
   "outputs": [
    {
     "name": "stdout",
     "output_type": "stream",
     "text": [
      "고속도로 연비 칼럼에서의 최솟값 : 12\n"
     ]
    }
   ],
   "source": [
    "print(\"고속도로 연비 칼럼에서의 최솟값 : {}\".format(series3.min())) # 각 컬럼값 (시리즈 형태) 최솟값"
   ]
  },
  {
   "cell_type": "code",
   "execution_count": 28,
   "id": "142dc20b",
   "metadata": {},
   "outputs": [
    {
     "name": "stdout",
     "output_type": "stream",
     "text": [
      "도시 연비 칼럼에서의 최솟값 : 12\n"
     ]
    }
   ],
   "source": [
    "print(\"도시 연비 칼럼에서의 최솟값 : {}\".format(series4.min()))"
   ]
  },
  {
   "cell_type": "markdown",
   "id": "11a04a5a",
   "metadata": {},
   "source": [
    "### max"
   ]
  },
  {
   "cell_type": "code",
   "execution_count": 37,
   "id": "bf528109",
   "metadata": {},
   "outputs": [
    {
     "name": "stdout",
     "output_type": "stream",
     "text": [
      "고속도로 연비 칼럼에서의 최대값 : 44\n"
     ]
    }
   ],
   "source": [
    "print(\"고속도로 연비 칼럼에서의 최대값 : {}\".format(series3.max())) # 각 컬럼값 (시리즈 형태) 최대값"
   ]
  },
  {
   "cell_type": "code",
   "execution_count": 36,
   "id": "bda01515",
   "metadata": {},
   "outputs": [
    {
     "name": "stdout",
     "output_type": "stream",
     "text": [
      "도시 연비 칼럼에서의 최대값 : 44\n"
     ]
    }
   ],
   "source": [
    "print('도시 연비 칼럼에서의 최대값 : {}'.format(series4.max()))"
   ]
  },
  {
   "cell_type": "markdown",
   "id": "c0c7c127",
   "metadata": {},
   "source": [
    "### median"
   ]
  },
  {
   "cell_type": "code",
   "execution_count": 35,
   "id": "be43d625",
   "metadata": {},
   "outputs": [
    {
     "name": "stdout",
     "output_type": "stream",
     "text": [
      "고속도로 연비 칼럼에서의 평균 : 24.0\n"
     ]
    }
   ],
   "source": [
    "print(\"고속도로 연비 칼럼에서의 평균 : {}\".format(series3.median())) # 각 컬럼값 (시리즈 형태) 평균값"
   ]
  },
  {
   "cell_type": "code",
   "execution_count": 34,
   "id": "c4182c42",
   "metadata": {},
   "outputs": [
    {
     "name": "stdout",
     "output_type": "stream",
     "text": [
      "도시 연비 칼럼에서의 평균 : 24.0\n"
     ]
    }
   ],
   "source": [
    "print(\"도시 연비 칼럼에서의 평균 : {}\".format(series4.median()))"
   ]
  },
  {
   "cell_type": "markdown",
   "id": "5cdc81a0",
   "metadata": {},
   "source": [
    "### replace 특정 값을 가진 시리즈를 교체"
   ]
  },
  {
   "cell_type": "code",
   "execution_count": 8,
   "id": "8f4e4a05",
   "metadata": {},
   "outputs": [
    {
     "data": {
      "text/plain": [
       "0            audi\n",
       "1            audi\n",
       "2            audi\n",
       "3            audi\n",
       "4            audi\n",
       "          ...    \n",
       "229    volkswagen\n",
       "230    volkswagen\n",
       "231    volkswagen\n",
       "232    volkswagen\n",
       "233    volkswagen\n",
       "Name: manufacturer, Length: 234, dtype: object"
      ]
     },
     "execution_count": 8,
     "metadata": {},
     "output_type": "execute_result"
    }
   ],
   "source": [
    "series5 = df['manufacturer'] # replace 사용하지 않고 시리즈를 교체\n",
    "series5"
   ]
  },
  {
   "cell_type": "code",
   "execution_count": 12,
   "id": "3b1f0f5c",
   "metadata": {},
   "outputs": [
    {
     "data": {
      "text/plain": [
       "0         audi\n",
       "1         audi\n",
       "2         audi\n",
       "3         audi\n",
       "4         audi\n",
       "        ...   \n",
       "229    gookmin\n",
       "230    gookmin\n",
       "231    gookmin\n",
       "232    gookmin\n",
       "233    gookmin\n",
       "Name: manufacturer, Length: 234, dtype: object"
      ]
     },
     "execution_count": 12,
     "metadata": {},
     "output_type": "execute_result"
    }
   ],
   "source": [
    "series5.replace('volkswagen', 'gookmin') # volkswagen라는 값이 gookmin으로 교체 되었다"
   ]
  },
  {
   "cell_type": "markdown",
   "id": "9444c2da",
   "metadata": {},
   "source": [
    "### sort_values "
   ]
  },
  {
   "cell_type": "code",
   "execution_count": 44,
   "id": "64feaacc",
   "metadata": {},
   "outputs": [
    {
     "data": {
      "text/plain": [
       "54     12\n",
       "65     12\n",
       "126    12\n",
       "69     12\n",
       "59     12\n",
       "       ..\n",
       "106    36\n",
       "196    37\n",
       "222    41\n",
       "212    44\n",
       "221    44\n",
       "Name: hwy, Length: 234, dtype: int64"
      ]
     },
     "execution_count": 44,
     "metadata": {},
     "output_type": "execute_result"
    }
   ],
   "source": [
    "series3.sort_values() # 값 정렬할 시리즈.sort_vlaues() # ascending=True 디폴트 값"
   ]
  },
  {
   "cell_type": "code",
   "execution_count": 46,
   "id": "58466866",
   "metadata": {},
   "outputs": [
    {
     "data": {
      "text/plain": [
       "54     12\n",
       "65     12\n",
       "126    12\n",
       "69     12\n",
       "59     12\n",
       "       ..\n",
       "106    36\n",
       "196    37\n",
       "222    41\n",
       "212    44\n",
       "221    44\n",
       "Name: hwy, Length: 234, dtype: int64"
      ]
     },
     "execution_count": 46,
     "metadata": {},
     "output_type": "execute_result"
    }
   ],
   "source": [
    "series4.sort_values() # 시리즈4에 대한 값 정렬"
   ]
  },
  {
   "cell_type": "code",
   "execution_count": 47,
   "id": "bfc38a59",
   "metadata": {},
   "outputs": [
    {
     "data": {
      "text/plain": [
       "221    44\n",
       "212    44\n",
       "222    41\n",
       "196    37\n",
       "105    36\n",
       "       ..\n",
       "65     12\n",
       "59     12\n",
       "126    12\n",
       "69     12\n",
       "54     12\n",
       "Name: hwy, Length: 234, dtype: int64"
      ]
     },
     "execution_count": 47,
     "metadata": {},
     "output_type": "execute_result"
    }
   ],
   "source": [
    "series3.sort_values(ascending=False) # 시리즈 값들을 내림차으로 정렬"
   ]
  },
  {
   "cell_type": "code",
   "execution_count": 48,
   "id": "ef8fb4c8",
   "metadata": {},
   "outputs": [
    {
     "data": {
      "text/plain": [
       "221    44\n",
       "212    44\n",
       "222    41\n",
       "196    37\n",
       "105    36\n",
       "       ..\n",
       "65     12\n",
       "59     12\n",
       "126    12\n",
       "69     12\n",
       "54     12\n",
       "Name: hwy, Length: 234, dtype: int64"
      ]
     },
     "execution_count": 48,
     "metadata": {},
     "output_type": "execute_result"
    }
   ],
   "source": [
    "series4.sort_values(ascending=False)"
   ]
  },
  {
   "cell_type": "markdown",
   "id": "d2f986f4",
   "metadata": {},
   "source": [
    "### to_frame "
   ]
  },
  {
   "cell_type": "code",
   "execution_count": 25,
   "id": "ccf3578a",
   "metadata": {},
   "outputs": [
    {
     "data": {
      "text/plain": [
       "0      f\n",
       "1      f\n",
       "2      f\n",
       "3      f\n",
       "4      f\n",
       "      ..\n",
       "229    f\n",
       "230    f\n",
       "231    f\n",
       "232    f\n",
       "233    f\n",
       "Name: drv, Length: 234, dtype: object"
      ]
     },
     "metadata": {},
     "output_type": "display_data"
    },
    {
     "name": "stdout",
     "output_type": "stream",
     "text": [
      "\n"
     ]
    },
    {
     "data": {
      "text/html": [
       "<div>\n",
       "<style scoped>\n",
       "    .dataframe tbody tr th:only-of-type {\n",
       "        vertical-align: middle;\n",
       "    }\n",
       "\n",
       "    .dataframe tbody tr th {\n",
       "        vertical-align: top;\n",
       "    }\n",
       "\n",
       "    .dataframe thead th {\n",
       "        text-align: right;\n",
       "    }\n",
       "</style>\n",
       "<table border=\"1\" class=\"dataframe\">\n",
       "  <thead>\n",
       "    <tr style=\"text-align: right;\">\n",
       "      <th></th>\n",
       "      <th>drv</th>\n",
       "    </tr>\n",
       "  </thead>\n",
       "  <tbody>\n",
       "    <tr>\n",
       "      <th>0</th>\n",
       "      <td>f</td>\n",
       "    </tr>\n",
       "    <tr>\n",
       "      <th>1</th>\n",
       "      <td>f</td>\n",
       "    </tr>\n",
       "    <tr>\n",
       "      <th>2</th>\n",
       "      <td>f</td>\n",
       "    </tr>\n",
       "    <tr>\n",
       "      <th>3</th>\n",
       "      <td>f</td>\n",
       "    </tr>\n",
       "    <tr>\n",
       "      <th>4</th>\n",
       "      <td>f</td>\n",
       "    </tr>\n",
       "    <tr>\n",
       "      <th>...</th>\n",
       "      <td>...</td>\n",
       "    </tr>\n",
       "    <tr>\n",
       "      <th>229</th>\n",
       "      <td>f</td>\n",
       "    </tr>\n",
       "    <tr>\n",
       "      <th>230</th>\n",
       "      <td>f</td>\n",
       "    </tr>\n",
       "    <tr>\n",
       "      <th>231</th>\n",
       "      <td>f</td>\n",
       "    </tr>\n",
       "    <tr>\n",
       "      <th>232</th>\n",
       "      <td>f</td>\n",
       "    </tr>\n",
       "    <tr>\n",
       "      <th>233</th>\n",
       "      <td>f</td>\n",
       "    </tr>\n",
       "  </tbody>\n",
       "</table>\n",
       "<p>234 rows × 1 columns</p>\n",
       "</div>"
      ],
      "text/plain": [
       "    drv\n",
       "0     f\n",
       "1     f\n",
       "2     f\n",
       "3     f\n",
       "4     f\n",
       "..   ..\n",
       "229   f\n",
       "230   f\n",
       "231   f\n",
       "232   f\n",
       "233   f\n",
       "\n",
       "[234 rows x 1 columns]"
      ]
     },
     "metadata": {},
     "output_type": "display_data"
    }
   ],
   "source": [
    "display(series2) # 데이터프레임으로 전활할 시리즈.to-frame()\n",
    "df2 = series2.to_frame() # 시리즈를 데이터프레임으로 전환\n",
    "print('')\n",
    "display(df2) # 데이트프레임을 보여준다"
   ]
  },
  {
   "cell_type": "markdown",
   "id": "644db5a9",
   "metadata": {},
   "source": [
    "# 수고하셨습니다 :) "
   ]
  }
 ],
 "metadata": {
  "kernelspec": {
   "display_name": "Python 3 (ipykernel)",
   "language": "python",
   "name": "python3"
  },
  "language_info": {
   "codemirror_mode": {
    "name": "ipython",
    "version": 3
   },
   "file_extension": ".py",
   "mimetype": "text/x-python",
   "name": "python",
   "nbconvert_exporter": "python",
   "pygments_lexer": "ipython3",
   "version": "3.9.12"
  }
 },
 "nbformat": 4,
 "nbformat_minor": 5
}
